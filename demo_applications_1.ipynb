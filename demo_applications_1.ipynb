{
 "cells": [
  {
   "cell_type": "markdown",
   "source": [
    "## Demonstrative Applications of the Nlarc Optimizer"
   ],
   "metadata": {
    "collapsed": false
   },
   "id": "4b62fda85d68c1d0"
  },
  {
   "cell_type": "code",
   "execution_count": 1,
   "outputs": [],
   "source": [
    "import os\n",
    "# Set TensorFlow environment variables to suppress logs\n",
    "os.environ['TF_CPP_MIN_LOG_LEVEL'] = '3'  # Only show errors\n",
    "os.environ['TF_CPP_MIN_VLOG_LEVEL'] = '3'  # Further suppression of verbose logs\n",
    "os.environ['TF_GPU_ALLOCATOR'] = 'cuda_malloc_async' # Configure TensorFlow GPU allocator\n",
    "\n",
    "import numpy as np\n",
    "import matplotlib.pyplot as plt\n",
    "import tensorflow as tf\n",
    "from tensorflow.keras import layers, models\n",
    "from tensorflow.keras.models import Sequential, Model\n",
    "from tensorflow.keras.layers import (\n",
    "    Flatten, Dense, Dropout, BatchNormalization, GlobalAveragePooling2D, Input\n",
    ")\n",
    "\n",
    "from tensorflow.keras.datasets import cifar10, mnist, cifar100\n",
    "from tensorflow.keras.utils import to_categorical\n",
    "from tensorflow.keras.applications import VGG16, VGG19, ConvNeXtBase\n",
    "from src.nlar_optimizers import *\n",
    "from tensorflow.keras.callbacks import ModelCheckpoint, ReduceLROnPlateau\n",
    "\n",
    "# Set floatx to float32\n",
    "tf.keras.backend.set_floatx('float64')"
   ],
   "metadata": {
    "collapsed": false,
    "ExecuteTime": {
     "end_time": "2024-10-06T11:15:22.357830300Z",
     "start_time": "2024-10-06T11:15:20.595079600Z"
    }
   },
   "id": "19a5cadd87f2b0ba"
  },
  {
   "cell_type": "markdown",
   "source": [
    "## An MLP model on MNIST dataset"
   ],
   "metadata": {
    "collapsed": false
   },
   "id": "d80d089fc09f1687"
  },
  {
   "cell_type": "code",
   "execution_count": 1,
   "outputs": [
    {
     "ename": "NameError",
     "evalue": "name 'mnist' is not defined",
     "output_type": "error",
     "traceback": [
      "\u001B[0;31m---------------------------------------------------------------------------\u001B[0m",
      "\u001B[0;31mNameError\u001B[0m                                 Traceback (most recent call last)",
      "Cell \u001B[0;32mIn[1], line 2\u001B[0m\n\u001B[1;32m      1\u001B[0m \u001B[38;5;66;03m# Load the dataset\u001B[39;00m\n\u001B[0;32m----> 2\u001B[0m (train_images, train_labels), (test_images, test_labels) \u001B[38;5;241m=\u001B[39m \u001B[43mmnist\u001B[49m\u001B[38;5;241m.\u001B[39mload_data()\n\u001B[1;32m      4\u001B[0m \u001B[38;5;66;03m# Normalize the images to [0, 1] range\u001B[39;00m\n\u001B[1;32m      5\u001B[0m train_images \u001B[38;5;241m=\u001B[39m train_images\u001B[38;5;241m.\u001B[39mastype(\u001B[38;5;124m'\u001B[39m\u001B[38;5;124mfloat64\u001B[39m\u001B[38;5;124m'\u001B[39m) \u001B[38;5;241m/\u001B[39m \u001B[38;5;241m255\u001B[39m\n",
      "\u001B[0;31mNameError\u001B[0m: name 'mnist' is not defined"
     ]
    }
   ],
   "source": [
    "# Load the dataset\n",
    "(train_images, train_labels), (test_images, test_labels) = mnist.load_data()\n",
    "\n",
    "# Normalize the images to [0, 1] range\n",
    "train_images = train_images.astype('float64') / 255\n",
    "test_images = test_images.astype('float64') / 255\n",
    "\n",
    "# Flatten the images\n",
    "train_images = train_images.reshape((train_images.shape[0], 28 * 28))\n",
    "test_images = test_images.reshape((test_images.shape[0], 28 * 28))\n",
    "\n",
    "# Convert labels to one-hot encoded format\n",
    "train_labels = to_categorical(train_labels)\n",
    "test_labels = to_categorical(test_labels)\n",
    "\n",
    "# Create the MLP model\n",
    "model = models.Sequential([\n",
    "    layers.Dense(1000, activation='relu', input_shape=(28 * 28,)),\n",
    "    layers.Dense(1000, activation='relu'),\n",
    "    # layers.Dropout(0.2),\n",
    "    layers.Dense(10, activation='softmax')\n",
    "])\n",
    "\n",
    "callbacks = [ReduceLROnPlateau(monitor='val_loss', factor=0.2, mode='min', patience=3, min_lr=0)]\n",
    "\n",
    "# Initialize the Nlarc optimizer with the desired hyperparameters\n",
    "optimizer = Nlarc() # learning_rate=0.1, momentum=1, global_clipnorm=None, sigma=1e-19, k0=1\n",
    "\n",
    "# Compile the model\n",
    "model.compile(optimizer=optimizer,\n",
    "                  loss='categorical_crossentropy',\n",
    "                  metrics=['accuracy'])\n",
    "\n",
    "# Train the model\n",
    "history = model.fit(train_images, train_labels, epochs=20, batch_size=300, validation_split=0, verbose=1)\n",
    "\n",
    "# Evaluate the model on test data\n",
    "_, test_acc = model.evaluate(test_images, test_labels)\n",
    "\n",
    "print('Test accuracy:', test_acc)"
   ],
   "metadata": {
    "collapsed": false,
    "ExecuteTime": {
     "end_time": "2024-10-06T15:09:39.062316300Z",
     "start_time": "2024-10-06T15:09:38.892914300Z"
    }
   },
   "id": "50a60e2cd6a4d2b"
  },
  {
   "cell_type": "code",
   "execution_count": 2,
   "outputs": [],
   "source": [],
   "metadata": {
    "collapsed": false,
    "ExecuteTime": {
     "end_time": "2024-09-11T23:20:44.727651700Z",
     "start_time": "2024-09-11T23:20:44.727651700Z"
    }
   },
   "id": "b2ecbcc9b2622cfc"
  },
  {
   "cell_type": "markdown",
   "source": [
    "## VGG16 on CIFAR-10 dataset"
   ],
   "metadata": {
    "collapsed": false
   },
   "id": "5ed5f0f05026c798"
  },
  {
   "cell_type": "code",
   "execution_count": null,
   "outputs": [
    {
     "name": "stdout",
     "output_type": "stream",
     "text": [
      "Epoch 1/20\n",
      "167/167 [==============================] - 138s 757ms/step - loss: 12.0288 - accuracy: 0.2126 - val_loss: 14.6508 - val_accuracy: 0.1039\n",
      "Epoch 2/20\n",
      "167/167 [==============================] - 125s 747ms/step - loss: 28.5914 - accuracy: 0.1227 - val_loss: 28.5956 - val_accuracy: 0.1033\n",
      "Epoch 3/20\n",
      "167/167 [==============================] - 125s 747ms/step - loss: 36.0667 - accuracy: 0.1103 - val_loss: 37.2465 - val_accuracy: 0.1010\n",
      "Epoch 4/20\n",
      "167/167 [==============================] - 125s 747ms/step - loss: 40.5040 - accuracy: 0.1047 - val_loss: 41.7246 - val_accuracy: 0.1003\n",
      "Epoch 5/20\n",
      "167/167 [==============================] - 125s 747ms/step - loss: 43.4182 - accuracy: 0.1038 - val_loss: 44.4530 - val_accuracy: 0.1000\n",
      "Epoch 6/20\n",
      "167/167 [==============================] - 125s 747ms/step - loss: 45.5452 - accuracy: 0.1023 - val_loss: 46.3572 - val_accuracy: 0.1000\n",
      "Epoch 7/20\n",
      "167/167 [==============================] - 125s 747ms/step - loss: 47.2317 - accuracy: 0.1020 - val_loss: 47.9373 - val_accuracy: 0.1000\n",
      "Epoch 8/20\n",
      "167/167 [==============================] - 125s 747ms/step - loss: 48.4935 - accuracy: 0.1019 - val_loss: 49.1246 - val_accuracy: 0.1000\n",
      "Epoch 9/20\n",
      "167/167 [==============================] - 125s 746ms/step - loss: 49.6426 - accuracy: 0.1015 - val_loss: 50.1594 - val_accuracy: 0.1000\n",
      "Epoch 10/20\n",
      "167/167 [==============================] - 125s 747ms/step - loss: 50.6672 - accuracy: 0.1014 - val_loss: 51.0707 - val_accuracy: 0.1000\n",
      "Epoch 11/20\n",
      "167/167 [==============================] - 125s 747ms/step - loss: 51.4398 - accuracy: 0.1009 - val_loss: 51.8687 - val_accuracy: 0.1000\n",
      "Epoch 12/20\n",
      "167/167 [==============================] - 125s 747ms/step - loss: 52.1812 - accuracy: 0.1010 - val_loss: 52.4988 - val_accuracy: 0.1000\n",
      "Epoch 13/20\n",
      "167/167 [==============================] - 125s 747ms/step - loss: 52.7623 - accuracy: 0.1010 - val_loss: 53.1069 - val_accuracy: 0.1000\n",
      "Epoch 14/20\n",
      "167/167 [==============================] - 125s 747ms/step - loss: 53.3470 - accuracy: 0.1012 - val_loss: 53.5676 - val_accuracy: 0.1000\n",
      "Epoch 15/20\n",
      "167/167 [==============================] - 125s 747ms/step - loss: 53.8099 - accuracy: 0.1010 - val_loss: 54.0904 - val_accuracy: 0.1000\n",
      "Epoch 16/20\n",
      "167/167 [==============================] - 125s 747ms/step - loss: 54.3060 - accuracy: 0.1009 - val_loss: 54.5381 - val_accuracy: 0.1000\n",
      "Epoch 17/20\n",
      "167/167 [==============================] - 125s 747ms/step - loss: 54.6317 - accuracy: 0.1008 - val_loss: 54.9017 - val_accuracy: 0.1000\n",
      "Epoch 18/20\n",
      "167/167 [==============================] - 125s 747ms/step - loss: 55.1158 - accuracy: 0.1006 - val_loss: 55.2369 - val_accuracy: 0.1000\n",
      "Epoch 19/20\n",
      "167/167 [==============================] - 125s 747ms/step - loss: 55.4426 - accuracy: 0.1007 - val_loss: 55.6689 - val_accuracy: 0.1000\n",
      "Epoch 20/20\n",
      "167/167 [==============================] - 125s 747ms/step - loss: 55.6837 - accuracy: 0.1009 - val_loss: 55.9524 - val_accuracy: 0.1000\n",
      "Accuracy of the fitted model on the test set after run 1: 0.1000\n",
      "Epoch 1/20\n",
      "167/167 [==============================] - 133s 749ms/step - loss: 11.0777 - accuracy: 0.2065 - val_loss: 17.4180 - val_accuracy: 0.1012\n",
      "Epoch 2/20\n",
      "167/167 [==============================] - 125s 747ms/step - loss: 26.8384 - accuracy: 0.1216 - val_loss: 29.0953 - val_accuracy: 0.1039\n",
      "Epoch 3/20\n",
      "167/167 [==============================] - 125s 747ms/step - loss: 34.1745 - accuracy: 0.1100 - val_loss: 36.0378 - val_accuracy: 0.1017\n",
      "Epoch 4/20\n",
      "167/167 [==============================] - 125s 747ms/step - loss: 38.4009 - accuracy: 0.1064 - val_loss: 39.8704 - val_accuracy: 0.1008\n",
      "Epoch 5/20\n",
      "167/167 [==============================] - 125s 747ms/step - loss: 41.1289 - accuracy: 0.1054 - val_loss: 42.2788 - val_accuracy: 0.1003\n",
      "Epoch 6/20\n",
      "167/167 [==============================] - 125s 747ms/step - loss: 43.1513 - accuracy: 0.1044 - val_loss: 44.0591 - val_accuracy: 0.1002\n",
      "Epoch 7/20\n",
      "167/167 [==============================] - 125s 747ms/step - loss: 44.7183 - accuracy: 0.1036 - val_loss: 45.4015 - val_accuracy: 0.1002\n",
      "Epoch 8/20\n",
      "167/167 [==============================] - 125s 747ms/step - loss: 45.8204 - accuracy: 0.1029 - val_loss: 46.5666 - val_accuracy: 0.1001\n",
      "Epoch 9/20\n",
      "167/167 [==============================] - 125s 747ms/step - loss: 46.8898 - accuracy: 0.1029 - val_loss: 47.4519 - val_accuracy: 0.1000\n",
      "Epoch 10/20\n",
      "167/167 [==============================] - 125s 747ms/step - loss: 47.8108 - accuracy: 0.1030 - val_loss: 48.2447 - val_accuracy: 0.1000\n",
      "Epoch 11/20\n",
      "167/167 [==============================] - 125s 747ms/step - loss: 48.5953 - accuracy: 0.1024 - val_loss: 49.0171 - val_accuracy: 0.1000\n",
      "Epoch 12/20\n",
      "167/167 [==============================] - 125s 748ms/step - loss: 49.1671 - accuracy: 0.1025 - val_loss: 49.6110 - val_accuracy: 0.1000\n",
      "Epoch 13/20\n",
      "167/167 [==============================] - 125s 747ms/step - loss: 49.8041 - accuracy: 0.1019 - val_loss: 50.0676 - val_accuracy: 0.1000\n",
      "Epoch 14/20\n",
      "167/167 [==============================] - 125s 747ms/step - loss: 50.3281 - accuracy: 0.1019 - val_loss: 50.5356 - val_accuracy: 0.1000\n",
      "Epoch 15/20\n",
      "167/167 [==============================] - 125s 747ms/step - loss: 50.7151 - accuracy: 0.1020 - val_loss: 50.9907 - val_accuracy: 0.1000\n",
      "Epoch 16/20\n",
      "167/167 [==============================] - 125s 747ms/step - loss: 51.2121 - accuracy: 0.1017 - val_loss: 51.3701 - val_accuracy: 0.1000\n",
      "Epoch 17/20\n",
      "167/167 [==============================] - 125s 747ms/step - loss: 51.5986 - accuracy: 0.1020 - val_loss: 51.7284 - val_accuracy: 0.1000\n",
      "Epoch 18/20\n",
      "167/167 [==============================] - 125s 747ms/step - loss: 51.9180 - accuracy: 0.1019 - val_loss: 52.0978 - val_accuracy: 0.1000\n",
      "Epoch 19/20\n",
      "167/167 [==============================] - 125s 747ms/step - loss: 52.1602 - accuracy: 0.1017 - val_loss: 52.4103 - val_accuracy: 0.1000\n",
      "Epoch 20/20\n",
      "167/167 [==============================] - 125s 747ms/step - loss: 52.3972 - accuracy: 0.1016 - val_loss: 52.6785 - val_accuracy: 0.1000\n",
      "Accuracy of the fitted model on the test set after run 2: 0.1000\n",
      "Epoch 1/20\n",
      "167/167 [==============================] - 134s 749ms/step - loss: 8.9147 - accuracy: 0.3033 - val_loss: 8.8343 - val_accuracy: 0.2618\n",
      "Epoch 2/20\n",
      "167/167 [==============================] - 125s 747ms/step - loss: 19.4608 - accuracy: 0.2481 - val_loss: 18.5714 - val_accuracy: 0.2425\n",
      "Epoch 3/20\n",
      "167/167 [==============================] - 125s 747ms/step - loss: 24.1866 - accuracy: 0.2299 - val_loss: 24.2059 - val_accuracy: 0.2196\n",
      "Epoch 4/20\n",
      "167/167 [==============================] - 125s 747ms/step - loss: 26.9188 - accuracy: 0.2198 - val_loss: 26.9192 - val_accuracy: 0.2086\n",
      "Epoch 5/20\n",
      "167/167 [==============================] - 125s 747ms/step - loss: 28.6512 - accuracy: 0.2155 - val_loss: 28.5424 - val_accuracy: 0.2020\n",
      "Epoch 6/20\n",
      "167/167 [==============================] - 125s 747ms/step - loss: 30.0264 - accuracy: 0.2118 - val_loss: 29.7441 - val_accuracy: 0.1995\n",
      "Epoch 7/20\n",
      "167/167 [==============================] - 125s 747ms/step - loss: 31.1090 - accuracy: 0.2113 - val_loss: 30.6586 - val_accuracy: 0.1969\n",
      "Epoch 8/20\n",
      "167/167 [==============================] - 125s 747ms/step - loss: 31.9518 - accuracy: 0.2074 - val_loss: 31.3961 - val_accuracy: 0.1951\n",
      "Epoch 9/20\n",
      "167/167 [==============================] - 125s 748ms/step - loss: 32.6411 - accuracy: 0.2063 - val_loss: 32.0007 - val_accuracy: 0.1930\n",
      "Epoch 10/20\n",
      "167/167 [==============================] - 125s 747ms/step - loss: 33.1731 - accuracy: 0.2059 - val_loss: 32.5908 - val_accuracy: 0.1918\n",
      "Epoch 11/20\n",
      "167/167 [==============================] - 125s 748ms/step - loss: 33.7105 - accuracy: 0.2041 - val_loss: 33.0059 - val_accuracy: 0.1904\n",
      "Epoch 12/20\n",
      "167/167 [==============================] - 125s 747ms/step - loss: 34.1913 - accuracy: 0.2030 - val_loss: 33.4605 - val_accuracy: 0.1900\n",
      "Epoch 13/20\n",
      "167/167 [==============================] - 125s 748ms/step - loss: 34.5342 - accuracy: 0.2021 - val_loss: 33.8382 - val_accuracy: 0.1890\n",
      "Epoch 14/20\n",
      "167/167 [==============================] - 125s 748ms/step - loss: 34.8598 - accuracy: 0.2026 - val_loss: 34.1073 - val_accuracy: 0.1887\n",
      "Epoch 15/20\n",
      "167/167 [==============================] - 125s 747ms/step - loss: 35.1642 - accuracy: 0.2009 - val_loss: 34.4114 - val_accuracy: 0.1886\n",
      "Epoch 16/20\n",
      "167/167 [==============================] - 125s 747ms/step - loss: 35.5224 - accuracy: 0.1996 - val_loss: 34.6746 - val_accuracy: 0.1886\n",
      "Epoch 17/20\n",
      "167/167 [==============================] - 125s 747ms/step - loss: 35.7151 - accuracy: 0.2003 - val_loss: 34.9642 - val_accuracy: 0.1879\n",
      "Epoch 18/20\n",
      "167/167 [==============================] - 125s 747ms/step - loss: 35.9276 - accuracy: 0.1999 - val_loss: 35.1386 - val_accuracy: 0.1875\n",
      "Epoch 19/20\n",
      "167/167 [==============================] - 125s 747ms/step - loss: 36.1484 - accuracy: 0.1981 - val_loss: 35.3965 - val_accuracy: 0.1872\n",
      "Epoch 20/20\n",
      "167/167 [==============================] - 125s 747ms/step - loss: 36.3383 - accuracy: 0.1970 - val_loss: 35.5880 - val_accuracy: 0.1870\n",
      "Accuracy of the fitted model on the test set after run 3: 0.1870\n",
      "Epoch 1/20\n",
      "167/167 [==============================] - 134s 752ms/step - loss: 11.6180 - accuracy: 0.2221 - val_loss: 10.3147 - val_accuracy: 0.1740\n",
      "Epoch 2/20\n",
      "167/167 [==============================] - 125s 747ms/step - loss: 26.2915 - accuracy: 0.1790 - val_loss: 24.2902 - val_accuracy: 0.1791\n",
      "Epoch 3/20\n",
      "167/167 [==============================] - 125s 747ms/step - loss: 32.7886 - accuracy: 0.1763 - val_loss: 33.1183 - val_accuracy: 0.1779\n",
      "Epoch 4/20\n",
      "137/167 [=======================>......] - ETA: 20s - loss: 36.3458 - accuracy: 0.1744"
     ]
    }
   ],
   "source": [
    "# Load and preprocess data\n",
    "\n",
    "(x_train, y_train), (x_test, y_test) = cifar10.load_data()\n",
    "\n",
    "# Normalize data\n",
    "x_train = x_train.astype('float64') / 255\n",
    "x_test = x_test.astype('float64') / 255\n",
    "\n",
    "# Convert class vectors to binary class matrices (one-hot encoding)\n",
    "y_train = to_categorical(y_train, 10).astype('float64')\n",
    "y_test = to_categorical(y_test, 10).astype('float64')\n",
    "\n",
    "metrics=['accuracy']\n",
    "acc_nlarc = []\n",
    "\n",
    "input_shape = (32, 32, 3)\n",
    "num_classes = 10\n",
    "n_runs = 5\n",
    "\n",
    "for run in range(n_runs):\n",
    "    # Load VGG16 model, pre-trained on ImageNet without the top layer (classifier)\n",
    "    base_model = VGG16(weights='imagenet', include_top=False, input_shape=input_shape)\n",
    "\n",
    "    # Freeze the layers of VGG16 model\n",
    "    for layer in base_model.layers:\n",
    "        layer.trainable = False\n",
    "\n",
    "    # Assuming `base_model` is the original VGG16 loaded without top\n",
    "    model = Sequential()\n",
    "    for layer in base_model.layers:\n",
    "        model.add(layer)\n",
    "        if 'conv' in layer.name:\n",
    "            model.add(BatchNormalization())  # Add batch normalization after each conv layer\n",
    "\n",
    "    # Continue building the rest of your model\n",
    "    model.add(Flatten())\n",
    "    model.add(Dense(512, activation='relu'))\n",
    "    model.add(Dropout(0.5))\n",
    "    model.add(Dense(num_classes, activation='softmax'))  \n",
    "\n",
    "    # Initialize the Nlarc optimizer with the desired hyperparameters\n",
    "    optimizer = Nlarcc(learning_rate=0.1, momentum=1, global_clipnorm=1, sigma=1e-30, k0=1)\n",
    "    # Adam(weight_decay=5e-4, epsilon=1e-8) # \n",
    "\n",
    "    # Compile the model\n",
    "    model.compile(optimizer=optimizer,\n",
    "                  loss='categorical_crossentropy',\n",
    "                  metrics=['accuracy'])\n",
    "\n",
    "    # Train the model\n",
    "    history = model.fit(x_train, y_train, batch_size=300,\n",
    "                    epochs=20,\n",
    "                    validation_data=(x_test, y_test), verbose=1)\n",
    "\n",
    "    # Log the test set accuracy for this run\n",
    "    val_accuracy = history.history['val_accuracy'][-1]\n",
    "    print(f\"Accuracy of the fitted model on the test set after run {run + 1}: {val_accuracy:.4f}\")\n",
    "\n",
    "    acc_nlarc.append(history.history['val_accuracy'])\n",
    "\n",
    "average_accuracy = np.mean(acc_nlarc, axis=0)[-1]\n",
    "print(f\"Average accuracy on the test set after {n_runs} runs: {average_accuracy:.4f}\")"
   ],
   "metadata": {
    "collapsed": false,
    "is_executing": true,
    "ExecuteTime": {
     "start_time": "2024-10-06T11:15:25.351156400Z"
    }
   },
   "id": "9e70eb78050f5a8b"
  },
  {
   "cell_type": "code",
   "execution_count": 4,
   "outputs": [
    {
     "data": {
      "text/plain": "<Figure size 1000x600 with 1 Axes>",
      "image/png": "[encoded data removed]"
     },
     "metadata": {},
     "output_type": "display_data"
    }
   ],
   "source": [
    "# Assuming acc_nlarc is already defined as your accuracy data\n",
    "# Calculate mean and standard deviation across runs\n",
    "mean_acc = np.mean(acc_nlarc, axis=0)\n",
    "std_acc = np.std(acc_nlarc, axis=0)\n",
    "\n",
    "# Generate x-axis values starting from 1\n",
    "epochs = np.arange(1, len(mean_acc) + 1)\n",
    "\n",
    "# Plot the mean accuracy with reduced line thickness\n",
    "plt.figure(figsize=(10, 6))\n",
    "plt.plot(epochs, mean_acc, label='Mean Accuracy', color='r', linewidth=0.8)  # Reduced line width\n",
    "\n",
    "# Add error bars\n",
    "plt.fill_between(epochs, mean_acc - std_acc, mean_acc + std_acc, color='black', alpha=0.2)\n",
    "\n",
    "# Add labels and title\n",
    "plt.xlabel('Epoch')\n",
    "plt.ylabel('Accuracy')\n",
    "plt.title('Mean Accuracy Over 5 Epochs')\n",
    "plt.legend()\n",
    "plt.grid(True)\n",
    "\n",
    "# Show plot\n",
    "plt.show()\n"
   ],
   "metadata": {
    "collapsed": false,
    "ExecuteTime": {
     "end_time": "2024-09-29T09:34:01.884033Z",
     "start_time": "2024-09-29T09:34:01.684035400Z"
    }
   },
   "id": "6c85c65c5221827"
  },
  {
   "cell_type": "code",
   "execution_count": 25,
   "outputs": [],
   "source": [],
   "metadata": {
    "collapsed": false,
    "ExecuteTime": {
     "end_time": "2024-09-12T12:11:15.248930900Z",
     "start_time": "2024-09-12T12:11:15.208932Z"
    }
   },
   "id": "cf0f1d6068a5c7c7"
  },
  {
   "cell_type": "code",
   "execution_count": 31,
   "outputs": [
    {
     "data": {
      "text/plain": "<Figure size 1000x600 with 1 Axes>",
      "image/png": "[encoded data removed]"
     },
     "metadata": {},
     "output_type": "display_data"
    }
   ],
   "source": [
    "# Assuming acc_nlarc is already defined as your accuracy data\n",
    "# Calculate mean and standard deviation across runs\n",
    "mean_acc = np.mean(acc_nlarc, axis=0)\n",
    "std_acc = np.std(acc_nlarc, axis=0)\n",
    "\n",
    "# Generate x-axis values starting from 1\n",
    "epochs = np.arange(1, len(mean_acc) + 1)\n",
    "\n",
    "# Plot the mean accuracy with reduced line thickness\n",
    "plt.figure(figsize=(10, 6))\n",
    "plt.plot(epochs, mean_acc, label='Mean Accuracy', color='r', linewidth=0.8)  # Reduced line width\n",
    "\n",
    "# Add error bars\n",
    "plt.fill_between(epochs, mean_acc - std_acc, mean_acc + std_acc, color='black', alpha=0.2)\n",
    "\n",
    "# Add labels and title\n",
    "plt.xlabel('Epoch')\n",
    "plt.ylabel('Accuracy')\n",
    "plt.title('Mean Accuracy Over 5 Epochs')\n",
    "plt.legend()\n",
    "plt.grid(True)\n",
    "\n",
    "# Show plot\n",
    "plt.show()\n"
   ],
   "metadata": {
    "collapsed": false,
    "ExecuteTime": {
     "end_time": "2024-09-12T12:16:23.711543700Z",
     "start_time": "2024-09-12T12:16:23.680545800Z"
    }
   },
   "id": "6b6c3d44b6fd2ba"
  },
  {
   "cell_type": "markdown",
   "source": [
    "## VGG16 on CIFAR100 dtaset"
   ],
   "metadata": {
    "collapsed": false
   },
   "id": "7b8d7efb000259d6"
  },
  {
   "cell_type": "code",
   "execution_count": 9,
   "outputs": [
    {
     "name": "stdout",
     "output_type": "stream",
     "text": [
      "Epoch 1/20\n",
      "391/391 [==============================] - 145s 347ms/step - loss: 3.1214 - accuracy: 0.2537 - val_loss: 2.3687 - val_accuracy: 0.3851 - lr: 0.1000\n",
      "Epoch 2/20\n",
      "391/391 [==============================] - 135s 345ms/step - loss: 2.4752 - accuracy: 0.3640 - val_loss: 2.1452 - val_accuracy: 0.4251 - lr: 0.1000\n",
      "Epoch 3/20\n",
      "391/391 [==============================] - 135s 345ms/step - loss: 2.2698 - accuracy: 0.4021 - val_loss: 2.0496 - val_accuracy: 0.4510 - lr: 0.1000\n",
      "Epoch 4/20\n",
      "391/391 [==============================] - 135s 344ms/step - loss: 2.1589 - accuracy: 0.4251 - val_loss: 1.9902 - val_accuracy: 0.4630 - lr: 0.1000\n",
      "Epoch 5/20\n",
      "391/391 [==============================] - 135s 345ms/step - loss: 2.0644 - accuracy: 0.4451 - val_loss: 1.9530 - val_accuracy: 0.4738 - lr: 0.1000\n",
      "Epoch 6/20\n",
      "391/391 [==============================] - 135s 344ms/step - loss: 2.0123 - accuracy: 0.4566 - val_loss: 1.9078 - val_accuracy: 0.4853 - lr: 0.1000\n",
      "Epoch 7/20\n",
      "391/391 [==============================] - 135s 345ms/step - loss: 1.9448 - accuracy: 0.4720 - val_loss: 1.8839 - val_accuracy: 0.4880 - lr: 0.1000\n",
      "Epoch 8/20\n",
      "391/391 [==============================] - 135s 344ms/step - loss: 1.8957 - accuracy: 0.4833 - val_loss: 1.8632 - val_accuracy: 0.4920 - lr: 0.1000\n",
      "Epoch 9/20\n",
      "391/391 [==============================] - 135s 345ms/step - loss: 1.8666 - accuracy: 0.4885 - val_loss: 1.8430 - val_accuracy: 0.4993 - lr: 0.1000\n",
      "Epoch 10/20\n",
      "391/391 [==============================] - 135s 346ms/step - loss: 1.8367 - accuracy: 0.4959 - val_loss: 1.8331 - val_accuracy: 0.4958 - lr: 0.1000\n",
      "Epoch 11/20\n",
      "391/391 [==============================] - 135s 346ms/step - loss: 1.8012 - accuracy: 0.5048 - val_loss: 1.8131 - val_accuracy: 0.5071 - lr: 0.1000\n",
      "Epoch 12/20\n",
      "391/391 [==============================] - 134s 343ms/step - loss: 1.7683 - accuracy: 0.5116 - val_loss: 1.8055 - val_accuracy: 0.5080 - lr: 0.1000\n",
      "Epoch 13/20\n",
      "391/391 [==============================] - 134s 343ms/step - loss: 1.7388 - accuracy: 0.5184 - val_loss: 1.7966 - val_accuracy: 0.5075 - lr: 0.1000\n",
      "Epoch 14/20\n",
      "391/391 [==============================] - 134s 343ms/step - loss: 1.7151 - accuracy: 0.5247 - val_loss: 1.7977 - val_accuracy: 0.5108 - lr: 0.1000\n",
      "Epoch 15/20\n",
      "391/391 [==============================] - 134s 343ms/step - loss: 1.6903 - accuracy: 0.5284 - val_loss: 1.7850 - val_accuracy: 0.5151 - lr: 0.1000\n",
      "Epoch 16/20\n",
      "391/391 [==============================] - 134s 343ms/step - loss: 1.6716 - accuracy: 0.5319 - val_loss: 1.7746 - val_accuracy: 0.5132 - lr: 0.1000\n",
      "Epoch 17/20\n",
      "391/391 [==============================] - 134s 343ms/step - loss: 1.6495 - accuracy: 0.5393 - val_loss: 1.7680 - val_accuracy: 0.5153 - lr: 0.1000\n",
      "Epoch 18/20\n",
      "391/391 [==============================] - 134s 343ms/step - loss: 1.6240 - accuracy: 0.5433 - val_loss: 1.7658 - val_accuracy: 0.5200 - lr: 0.1000\n",
      "Epoch 19/20\n",
      "391/391 [==============================] - 134s 343ms/step - loss: 1.6117 - accuracy: 0.5464 - val_loss: 1.7645 - val_accuracy: 0.5172 - lr: 0.1000\n",
      "Epoch 20/20\n",
      "391/391 [==============================] - 134s 343ms/step - loss: 1.5982 - accuracy: 0.5514 - val_loss: 1.7571 - val_accuracy: 0.5213 - lr: 0.1000\n"
     ]
    }
   ],
   "source": [
    "# Load and preprocess the CIFAR-100 dataset\n",
    "(x_train, y_train), (x_test, y_test) = tf.keras.datasets.cifar100.load_data()\n",
    "\n",
    "# Normalize data\n",
    "x_train = x_train.astype('float64') / 255\n",
    "x_test = x_test.astype('float64') / 255\n",
    "\n",
    "# Convert class vectors to binary class matrices (one-hot encoding)\n",
    "y_train = to_categorical(y_train, 100).astype('float64')\n",
    "y_test = to_categorical(y_test, 100).astype('float64')\n",
    "\n",
    "\n",
    "# callbacks = [ReduceLROnPlateau(monitor='val_loss', factor=0.2, mode='min',\n",
    "#                                                  patience=3, min_lr=0, save_best_only=True)]\n",
    "\n",
    "metrics=['accuracy']\n",
    "\n",
    "input_shape = (32, 32, 3)\n",
    "num_classes = 100\n",
    "\n",
    "\n",
    "# Conducting only one run\n",
    "# Load VGG16 model, pre-trained on ImageNet without the top layer (classifier)\n",
    "base_model = VGG16(weights='imagenet', include_top=False, input_shape=input_shape)\n",
    "\n",
    "# Freeze the layers of VGG16 model\n",
    "for layer in base_model.layers:\n",
    "    layer.trainable = False\n",
    "\n",
    "# Assuming `base_model` is the original VGG16 loaded without top\n",
    "model = Sequential()\n",
    "for layer in base_model.layers:\n",
    "    model.add(layer)\n",
    "    if 'conv' in layer.name:\n",
    "        model.add(BatchNormalization())  # Add batch normalization after each conv layer\n",
    "\n",
    "# Continue building the rest of your model\n",
    "model.add(Flatten())\n",
    "model.add(Dense(512, activation='relu'))\n",
    "model.add(Dropout(0.5))\n",
    "model.add(Dense(num_classes, activation='softmax'))  \n",
    "\n",
    "# Initialize the Nlarc optimizer with specific hyperparameters\n",
    "optimizer = Nlarc(learning_rate=0.1, momentum=1, global_clipnorm=1, sigma=1e-30, k0=1)\n",
    "\n",
    "# Compile the model\n",
    "model.compile(optimizer=optimizer,\n",
    "              loss='categorical_crossentropy',\n",
    "              metrics=['accuracy'])\n",
    "\n",
    "# Define callbacks for training\n",
    "callbacks = [\n",
    "    ReduceLROnPlateau(monitor='val_loss', factor=0.2, mode='min',\n",
    "                      patience=3, min_lr=1e-5, verbose=1)  # Reduce learning rate when a metric has stopped improving\n",
    "]\n",
    "\n",
    "# Train the model\n",
    "history = model.fit(x_train, y_train, batch_size=128, epochs=20, validation_data=(x_test, y_test), callbacks=callbacks)\n"
   ],
   "metadata": {
    "collapsed": false,
    "ExecuteTime": {
     "end_time": "2024-09-12T04:33:06.330016700Z",
     "start_time": "2024-09-12T03:48:03.042362600Z"
    }
   },
   "id": "8b7e62dfdb84e85"
  },
  {
   "cell_type": "code",
   "execution_count": null,
   "outputs": [],
   "source": [],
   "metadata": {
    "collapsed": false
   },
   "id": "3bb1ad2f0b91c5fe"
  }
 ],
 "metadata": {
  "kernelspec": {
   "display_name": "Python 3",
   "language": "python",
   "name": "python3"
  },
  "language_info": {
   "codemirror_mode": {
    "name": "ipython",
    "version": 2
   },
   "file_extension": ".py",
   "mimetype": "text/x-python",
   "name": "python",
   "nbconvert_exporter": "python",
   "pygments_lexer": "ipython2",
   "version": "2.7.6"
  }
 },
 "nbformat": 4,
 "nbformat_minor": 5
}
